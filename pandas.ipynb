{
  "nbformat": 4,
  "nbformat_minor": 0,
  "metadata": {
    "colab": {
      "provenance": [],
      "authorship_tag": "ABX9TyPPWb1vIuRxsTen/dSx/U7y",
      "include_colab_link": true
    },
    "kernelspec": {
      "name": "python3",
      "display_name": "Python 3"
    },
    "language_info": {
      "name": "python"
    }
  },
  "cells": [
    {
      "cell_type": "markdown",
      "metadata": {
        "id": "view-in-github",
        "colab_type": "text"
      },
      "source": [
        "<a href=\"https://colab.research.google.com/github/pablopizutti/quest1/blob/main/pandas.ipynb\" target=\"_parent\"><img src=\"https://colab.research.google.com/assets/colab-badge.svg\" alt=\"Open In Colab\"/></a>"
      ]
    },
    {
      "cell_type": "markdown",
      "source": [
        "  Neste teste iremos realizar algumas operações utilizando a biblioteca Pandas,  não será exigido, porém caso considere valido poderá utilisar alguma outra biblioteca para as analises"
      ],
      "metadata": {
        "id": "fv95NMQ5z5S2"
      }
    },
    {
      "cell_type": "code",
      "execution_count": 1,
      "metadata": {
        "id": "_4BHyqmMzeh8"
      },
      "outputs": [],
      "source": [
        "import pandas as pd"
      ]
    }
  ]
}