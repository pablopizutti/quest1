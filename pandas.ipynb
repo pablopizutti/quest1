{
  "nbformat": 4,
  "nbformat_minor": 0,
  "metadata": {
    "colab": {
      "provenance": [],
      "authorship_tag": "ABX9TyOoyNq6tnXZJOvQo9mLA8nw",
      "include_colab_link": true
    },
    "kernelspec": {
      "name": "python3",
      "display_name": "Python 3"
    },
    "language_info": {
      "name": "python"
    }
  },
  "cells": [
    {
      "cell_type": "markdown",
      "metadata": {
        "id": "view-in-github",
        "colab_type": "text"
      },
      "source": [
        "<a href=\"https://colab.research.google.com/github/pablopizutti/quest1/blob/main/pandas.ipynb\" target=\"_parent\"><img src=\"https://colab.research.google.com/assets/colab-badge.svg\" alt=\"Open In Colab\"/></a>"
      ]
    },
    {
      "cell_type": "markdown",
      "source": [
        "  Neste teste iremos realizar algumas operações utilizando a biblioteca Pandas,  não será exigido, porém caso considere valido poderá utilisar alguma outra biblioteca para as analises, após cada bloco descritivo será sua responsabilidade escrever o código para realizar as tarefas."
      ],
      "metadata": {
        "id": "fv95NMQ5z5S2"
      }
    },
    {
      "cell_type": "markdown",
      "source": [
        "Importe a biblioteca pandas com o alias de 'pd'"
      ],
      "metadata": {
        "id": "miuoCst-1IUv"
      }
    },
    {
      "cell_type": "code",
      "execution_count": null,
      "metadata": {
        "id": "_4BHyqmMzeh8"
      },
      "outputs": [],
      "source": []
    },
    {
      "cell_type": "markdown",
      "source": [
        "importe o arquivo https://raw.githubusercontent.com/pablopizutti/quest1/main/tortilla_prices.csv em uma variavel.\n",
        "\n",
        "imprima as 8 ultimas linhas da variavel"
      ],
      "metadata": {
        "id": "5quPAiO21Zkd"
      }
    },
    {
      "cell_type": "code",
      "source": [],
      "metadata": {
        "id": "pQGc6dmd3Eb0"
      },
      "execution_count": 45,
      "outputs": []
    },
    {
      "cell_type": "markdown",
      "source": [
        "Imprima uma lista com todas as cidades e todos os estados estudados."
      ],
      "metadata": {
        "id": "TTjOK_tfAARJ"
      }
    },
    {
      "cell_type": "code",
      "source": [],
      "metadata": {
        "id": "6NFDOZ4yABRk"
      },
      "execution_count": null,
      "outputs": []
    },
    {
      "cell_type": "markdown",
      "source": [
        "Existem caracteres não regulares (\\xa0) nos nomes dos estados e cidades, subistitua eles por um espaço."
      ],
      "metadata": {
        "id": "huT1hq5G4RYZ"
      }
    },
    {
      "cell_type": "code",
      "source": [],
      "metadata": {
        "id": "98azB22K_0jv"
      },
      "execution_count": null,
      "outputs": []
    },
    {
      "cell_type": "markdown",
      "source": [
        "Qual a cidade e estado que mais aparece nos dados?\n",
        "\n",
        "quantas vezes eles aparecem?"
      ],
      "metadata": {
        "id": "oveiso1t_0r-"
      }
    },
    {
      "cell_type": "code",
      "source": [],
      "metadata": {
        "id": "dRrw8ONe4OD8"
      },
      "execution_count": null,
      "outputs": []
    },
    {
      "cell_type": "markdown",
      "source": [
        "Qual o preço médio o mais caro e mais barato? (desconsiderar valores invalidos, iguais a 0 ou negativos)\n",
        "\n",
        "Qual foi o ano e estado do preço mais barato?\n",
        "\n",
        "E do mais caro?"
      ],
      "metadata": {
        "id": "cCr9Nvng4WHz"
      }
    },
    {
      "cell_type": "code",
      "source": [],
      "metadata": {
        "id": "Tz4MmIEV4WdV"
      },
      "execution_count": null,
      "outputs": []
    },
    {
      "cell_type": "markdown",
      "source": [
        "qual o mês mais caro para o ano de 2015 no estado de Colima?"
      ],
      "metadata": {
        "id": "0YVEEBjo4joa"
      }
    },
    {
      "cell_type": "code",
      "source": [],
      "metadata": {
        "id": "AHtmQVoE4j5v"
      },
      "execution_count": null,
      "outputs": []
    },
    {
      "cell_type": "markdown",
      "source": [
        "Quantos valores invalidos aparecem nos dados?"
      ],
      "metadata": {
        "id": "KZUTAlqoBhyW"
      }
    },
    {
      "cell_type": "code",
      "source": [],
      "metadata": {
        "id": "gT_CChNH5sW4"
      },
      "execution_count": null,
      "outputs": []
    }
  ]
}